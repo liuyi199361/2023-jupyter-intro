{
 "cells": [
  {
   "cell_type": "code",
   "execution_count": null,
   "id": "07cab692",
   "metadata": {},
   "outputs": [],
   "source": []
  },
  {
   "cell_type": "code",
   "execution_count": 2,
   "id": "6c53c390",
   "metadata": {},
   "outputs": [
    {
     "name": "stdout",
     "output_type": "stream",
     "text": [
      "Hello World\n"
     ]
    }
   ],
   "source": [
    "##Traditional kickoff for learning to code \n",
    "print(\"Hello World\")"
   ]
  },
  {
   "cell_type": "code",
   "execution_count": 3,
   "id": "0539ed0d",
   "metadata": {},
   "outputs": [],
   "source": [
    "#Working with iPython notebook\n"
   ]
  },
  {
   "cell_type": "code",
   "execution_count": null,
   "id": "a54b4ecf",
   "metadata": {},
   "outputs": [],
   "source": []
  },
  {
   "cell_type": "code",
   "execution_count": 9,
   "id": "54760dfd",
   "metadata": {},
   "outputs": [
    {
     "name": "stdout",
     "output_type": "stream",
     "text": [
      "unknown option --verison\r\n",
      "usage: python [option] ... [-c cmd | -m mod | file | -] [arg] ...\r\n",
      "Try `python -h' for more information.\r\n"
     ]
    }
   ],
   "source": [
    "## check what version of Python I have on my computer \n",
    "!python --verison"
   ]
  },
  {
   "cell_type": "code",
   "execution_count": null,
   "id": "1dbac095",
   "metadata": {},
   "outputs": [],
   "source": []
  },
  {
   "cell_type": "code",
   "execution_count": 10,
   "id": "84b59727",
   "metadata": {},
   "outputs": [
    {
     "data": {
      "text/plain": [
       "4"
      ]
     },
     "execution_count": 10,
     "metadata": {},
     "output_type": "execute_result"
    }
   ],
   "source": [
    "## validating addition\n",
    "2+2"
   ]
  },
  {
   "cell_type": "code",
   "execution_count": 11,
   "id": "1d9d4349",
   "metadata": {},
   "outputs": [
    {
     "data": {
      "text/plain": [
       "5.0"
      ]
     },
     "execution_count": 11,
     "metadata": {},
     "output_type": "execute_result"
    }
   ],
   "source": [
    "## simple division\n",
    "25 / 5"
   ]
  },
  {
   "cell_type": "code",
   "execution_count": 12,
   "id": "ab193d7c",
   "metadata": {},
   "outputs": [
    {
     "data": {
      "text/plain": [
       "1"
      ]
     },
     "execution_count": 12,
     "metadata": {},
     "output_type": "execute_result"
    }
   ],
   "source": [
    "## modulus\n",
    "\n",
    "25%2"
   ]
  },
  {
   "cell_type": "markdown",
   "id": "f4c8ed0c",
   "metadata": {},
   "source": [
    "## List of favorite fruit\n",
    "\n",
    "here are YiLiu's favorate fruits\n",
    "\n",
    "*pinapple \n",
    "*orange\n",
    "*apple\n",
    "\n",
    "## source of data:\n",
    "i found the date on the <a href=\"https://www.census.gov\">us census site</a>\n",
    "\n",
    "anothe way would be provide the [link like this ](https://www.census.gov)\n"
   ]
  }
 ],
 "metadata": {
  "kernelspec": {
   "display_name": "Python 3 (ipykernel)",
   "language": "python",
   "name": "python3"
  },
  "language_info": {
   "codemirror_mode": {
    "name": "ipython",
    "version": 3
   },
   "file_extension": ".py",
   "mimetype": "text/x-python",
   "name": "python",
   "nbconvert_exporter": "python",
   "pygments_lexer": "ipython3",
   "version": "3.9.13"
  }
 },
 "nbformat": 4,
 "nbformat_minor": 5
}
